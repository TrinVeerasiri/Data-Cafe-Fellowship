{
 "cells": [
  {
   "cell_type": "markdown",
   "metadata": {},
   "source": [
    "# ขั้นที่ 3: หางานที่ตรงกับความต้องการของผู้สมัครมากที่สุด\n",
    "ในขั้นตอนนี้เราสร้าง raw text ที่รวบรวมความต้องการของผู้สมัคร และของบริษัท จากนั้นแปลงเป็น vector ด้วย TF-IDF นำ vector ของผู้สมัครมาเปรียบเทียบกับ vector ของตำแหน่งงาน ผลที่ได้จะเป็นลำดับงานที่ตรงกับความต้องการของผู้สมัครมากที่สุดเรียงลำดับจากมากไปหาน้อย"
   ]
  },
  {
   "cell_type": "markdown",
   "metadata": {},
   "source": [
    "## สร้าง vector ผู้สมัครและตำแหน่งงาน"
   ]
  },
  {
   "cell_type": "code",
   "execution_count": 1,
   "metadata": {
    "collapsed": true
   },
   "outputs": [],
   "source": [
    "import pandas as pd\n",
    "import numpy as np\n",
    "import matplotlib.pyplot as plt\n",
    "import seaborn as sns\n",
    "import re"
   ]
  },
  {
   "cell_type": "code",
   "execution_count": 2,
   "metadata": {},
   "outputs": [
    {
     "name": "stderr",
     "output_type": "stream",
     "text": [
      "D:\\Anaconda3\\lib\\site-packages\\IPython\\core\\interactiveshell.py:2728: DtypeWarning: Columns (5,6,22,26,43) have mixed types. Specify dtype option on import or set low_memory=False.\n",
      "  interactivity=interactivity, compiler=compiler, result=result)\n"
     ]
    }
   ],
   "source": [
    "#df = pd.read_csv(\"data/jobthai/df_noOutliers.csv\", index_col='Unnamed: 0')\n",
    "position = pd.read_csv(\"data/jobthai/position_df.csv\")\n",
    "applicant = pd.read_csv(\"data/jobthai/applicant_df.csv\")"
   ]
  },
  {
   "cell_type": "code",
   "execution_count": 3,
   "metadata": {
    "collapsed": true
   },
   "outputs": [],
   "source": [
    "applicant = applicant[~applicant['WantedPosition_1'].isnull()]"
   ]
  },
  {
   "cell_type": "markdown",
   "metadata": {},
   "source": [
    "## vector ผู้สมัคร "
   ]
  },
  {
   "cell_type": "code",
   "execution_count": 4,
   "metadata": {
    "collapsed": true
   },
   "outputs": [],
   "source": [
    "WantedPosition1 = applicant['WantedPosition_1'].fillna('')\n",
    "Duty1 = applicant['PrevDuty_1'].fillna('')\n",
    "Duty2 = applicant['PrevDuty_2'].fillna('')\n",
    "Duty3 = applicant['PrevDuty_3'].fillna('')\n",
    "\n",
    "app = WantedPosition1 + ' ' + Duty1 + ' ' + Duty2 + ' ' + Duty3"
   ]
  },
  {
   "cell_type": "markdown",
   "metadata": {},
   "source": [
    "## vector ตำแหน่งงาน"
   ]
  },
  {
   "cell_type": "code",
   "execution_count": 5,
   "metadata": {
    "collapsed": true
   },
   "outputs": [],
   "source": [
    "Title = position['Title'].fillna('')\n",
    "Description = position['Description'].fillna('')\n",
    "\n",
    "pos = Title + ' ' + Description"
   ]
  },
  {
   "cell_type": "code",
   "execution_count": 6,
   "metadata": {},
   "outputs": [
    {
     "name": "stderr",
     "output_type": "stream",
     "text": [
      "D:\\Anaconda3\\lib\\site-packages\\gensim\\utils.py:1209: UserWarning: detected Windows; aliasing chunkize to chunkize_serial\n",
      "  warnings.warn(\"detected Windows; aliasing chunkize to chunkize_serial\")\n"
     ]
    }
   ],
   "source": [
    "#Import Library สำหรับสร้าง tfidf model\n",
    "#Import Dictionary\n",
    "from gensim.corpora.dictionary import Dictionary\n",
    "#Import TfidfModel\n",
    "from gensim.models.tfidfmodel import TfidfModel\n",
    "import collections\n",
    "import itertools\n",
    "#Import library ใช้สำหรับการตัดและนับคำ\n",
    "from collections import Counter\n",
    "from pythainlp.tokenize import word_tokenize"
   ]
  },
  {
   "cell_type": "code",
   "execution_count": 7,
   "metadata": {
    "collapsed": true
   },
   "outputs": [],
   "source": [
    "def create_token(groupTitle):\n",
    "    #ใส่คอลัมน์ที่ต้องการดู\n",
    "    tokens = []\n",
    "    for i in range(0,groupTitle.shape[0]):\n",
    "        text = \"\".join(groupTitle[i])\n",
    "\n",
    "        #Preprocessing step\n",
    "        punctuation = [',','/','-','&','','\\r\\r\\n-','\\r\\n','\\r','\\n','\\t']\n",
    "        conjunction = ['และ']\n",
    "\n",
    "        pattern = punctuation + conjunction\n",
    "        escape_pattern = ['(',')']\n",
    "\n",
    "        for word in escape_pattern:\n",
    "            text = re.sub(re.escape(word), '', text)    \n",
    "        for word in pattern:\n",
    "            text = re.sub(word, '', text)\n",
    "        #เอาเว้นวรรค ' ' ออกจากข้อความ   \n",
    "        text = re.sub(' ', '', text)\n",
    "        #ตัดและนับคำเพื่อหา keyword ของแต่ละกลุ่มอาชีพ\n",
    "        tokens.append(word_tokenize(text))\n",
    "        #bow_simple = Counter(tokens)\n",
    "    \n",
    "    return tokens"
   ]
  },
  {
   "cell_type": "code",
   "execution_count": 8,
   "metadata": {
    "collapsed": true
   },
   "outputs": [],
   "source": [
    "pos_token = create_token(pos)"
   ]
  },
  {
   "cell_type": "code",
   "execution_count": 9,
   "metadata": {
    "collapsed": true
   },
   "outputs": [],
   "source": [
    "def create_tfidf(tokens):\n",
    "    # Create a Dictionary from the articles: dictionary\n",
    "    dictionary = Dictionary(tokens)\n",
    "    # Create a MmCorpus: corpus\n",
    "    corpus = [dictionary.doc2bow(token) for token in tokens]\n",
    "\n",
    "    #เลือก document\n",
    "    #doc = corpus[0]\n",
    "\n",
    "    # Create a new TfidfModel using the corpus: tfidf\n",
    "    tfidf = TfidfModel(corpus)\n",
    "    \n",
    "    return tfidf, corpus, dictionary"
   ]
  },
  {
   "cell_type": "code",
   "execution_count": 10,
   "metadata": {
    "collapsed": true
   },
   "outputs": [],
   "source": [
    "tfidf, corpus, dictionary = create_tfidf(pos_token)"
   ]
  },
  {
   "cell_type": "code",
   "execution_count": 11,
   "metadata": {
    "collapsed": true
   },
   "outputs": [],
   "source": [
    "#ฟังก์ชันสำหรับทำนายผล\n",
    "def predictJob(app):\n",
    "    test = app\n",
    "    t = word_tokenize(test)\n",
    "    t = dictionary.doc2bow(t)\n",
    "    t = tfidf[t]\n",
    "\n",
    "    return position.loc[sims[t].argmax()][['Title','Description']]"
   ]
  },
  {
   "cell_type": "code",
   "execution_count": 12,
   "metadata": {},
   "outputs": [
    {
     "name": "stdout",
     "output_type": "stream",
     "text": [
      "Similarity index with 59826 documents in 1 shards (stored under /data)\n",
      "<class 'gensim.similarities.docsim.Similarity'>\n"
     ]
    }
   ],
   "source": [
    "import gensim.similarities\n",
    "sims = gensim.similarities.Similarity('/data', tfidf[corpus], num_features=len(dictionary))\n",
    "print(sims)\n",
    "print(type(sims))"
   ]
  },
  {
   "cell_type": "code",
   "execution_count": 13,
   "metadata": {
    "collapsed": true
   },
   "outputs": [],
   "source": [
    "pred = predictJob(app[8])"
   ]
  },
  {
   "cell_type": "code",
   "execution_count": 14,
   "metadata": {
    "collapsed": true
   },
   "outputs": [],
   "source": [
    "app_profile = applicant[['WantedPosition_1','PrevDuty_1','PrevDuty_2','PrevDuty_3']]\n",
    "pred = pd.DataFrame()\n",
    "for i in range(0,20):\n",
    "    current_pred = predictJob(app[i])\n",
    "    current_pred = pd.concat([app_profile.loc[i], current_pred])\n",
    "    pred = pd.concat([pred, current_pred], axis=1)"
   ]
  },
  {
   "cell_type": "code",
   "execution_count": 15,
   "metadata": {
    "collapsed": true
   },
   "outputs": [],
   "source": [
    "#กลับ dataframe\n",
    "pred = pred.T\n",
    "#เรียง column ใหม่\n",
    "pred = pred[['WantedPosition_1','PrevDuty_1','PrevDuty_2','PrevDuty_3','Title','Description']]\n",
    "pred = pred.rename(columns = {'Title': 'predict_Title', 'Description': 'predict_Description'})"
   ]
  },
  {
   "cell_type": "code",
   "execution_count": 16,
   "metadata": {
    "collapsed": true
   },
   "outputs": [],
   "source": [
    "#Save เป็น file excel\n",
    "writer = pd.ExcelWriter('predictMostLikelyJob20.xlsx')\n",
    "pred.to_excel(writer,'Sheet1')\n",
    "writer.save()"
   ]
  },
  {
   "cell_type": "code",
   "execution_count": 17,
   "metadata": {},
   "outputs": [
    {
     "data": {
      "text/html": [
       "<div>\n",
       "<style>\n",
       "    .dataframe thead tr:only-child th {\n",
       "        text-align: right;\n",
       "    }\n",
       "\n",
       "    .dataframe thead th {\n",
       "        text-align: left;\n",
       "    }\n",
       "\n",
       "    .dataframe tbody tr th {\n",
       "        vertical-align: top;\n",
       "    }\n",
       "</style>\n",
       "<table border=\"1\" class=\"dataframe\">\n",
       "  <thead>\n",
       "    <tr style=\"text-align: right;\">\n",
       "      <th></th>\n",
       "      <th>WantedPosition_1</th>\n",
       "      <th>PrevDuty_1</th>\n",
       "      <th>PrevDuty_2</th>\n",
       "      <th>PrevDuty_3</th>\n",
       "      <th>predict_Title</th>\n",
       "      <th>predict_Description</th>\n",
       "    </tr>\n",
       "  </thead>\n",
       "  <tbody>\n",
       "    <tr>\n",
       "      <th>0</th>\n",
       "      <td>Asst. CEO/Asst GM/Asst. Plant MGR / Production...</td>\n",
       "      <td>Productivity Improvement 改善\\r\\r\\nLine Balancin...</td>\n",
       "      <td>1. Yield capacity analysis            \\...</td>\n",
       "      <td>1. MRP schedule\\r\\r\\n                      Whe...</td>\n",
       "      <td>พนักงาน it</td>\n",
       "      <td>ดูแลระบบเครือข่าย ระบบข้อมูล ซ่อมและแก้ไขปัญหา...</td>\n",
       "    </tr>\n",
       "    <tr>\n",
       "      <th>0</th>\n",
       "      <td>ผู้จัดการงานเร่งรัดหนี้สินติดตามหนี้สิน/บังคับคดี</td>\n",
       "      <td>ติดตามหนี้เช่าซื้อ ดำเนินการยึดเครื่องจักร ประ...</td>\n",
       "      <td>ขายสินค้าเฟอร์นิเจอร์ กลุ่มพลาสติก และสแตนเลส ...</td>\n",
       "      <td>เร่งรัดหนี้สิน เป็นผู้รับมอบอำนาจของบริษัทฯ เพ...</td>\n",
       "      <td>พนักงานจัดซื้อ</td>\n",
       "      <td>1. จัดหาซัพพลายเออร์ใหม่ๆ พร้อมทั้งเปรียบเทียบ...</td>\n",
       "    </tr>\n",
       "    <tr>\n",
       "      <th>0</th>\n",
       "      <td>บริหารการตลาด</td>\n",
       "      <td>ดูแลบริหารงานส่วนการขาย  การบริการ  วางแผนงาน ...</td>\n",
       "      <td>ตลาดเพชรอารี - คิดแผนงานการตลาด และรับผิดชอบใน...</td>\n",
       "      <td>บ. ดำเนินกิจการทางด้านร้านอาหาร โดยรับผิดชอบด้...</td>\n",
       "      <td>พนักงานจัดซื้อ</td>\n",
       "      <td>1. จัดหาซัพพลายเออร์ใหม่ๆ พร้อมทั้งเปรียบเทียบ...</td>\n",
       "    </tr>\n",
       "    <tr>\n",
       "      <th>0</th>\n",
       "      <td>Graphics Design</td>\n",
       "      <td>สอนวิชาทัศนศิลป์, จิตรกรรม</td>\n",
       "      <td>Desing Catalogue,Web Design , Presentation ,Ed...</td>\n",
       "      <td>Design Sport Promote , vtr , title TV ,storyboard</td>\n",
       "      <td>พนักงานแผนก Design</td>\n",
       "      <td>NaN</td>\n",
       "    </tr>\n",
       "    <tr>\n",
       "      <th>0</th>\n",
       "      <td>PM/CM/PE Engineer</td>\n",
       "      <td>เซ็นต์ออกแบบ-ควบคุม ดำเนินการขออนุญาตก่อสร้าง ...</td>\n",
       "      <td>Drawing Drawn, Construction Permission, BOQ, S...</td>\n",
       "      <td>เคลียร์-เขียนแบบ Shop และ Trainning CAD น้องๆว...</td>\n",
       "      <td>วิศวกรเขียนแบบ/ออกแบบ CAD 3D&amp;2D</td>\n",
       "      <td>- เขียนแบบ CAD 2D และ 3D ตามแบบที่ได้รับมอบหมา...</td>\n",
       "    </tr>\n",
       "    <tr>\n",
       "      <th>0</th>\n",
       "      <td>Production Manager</td>\n",
       "      <td>-\\tSupervise Production team .\\r\\r\\n-\\tEnsure ...</td>\n",
       "      <td>-\\tSupervise Warehouse and Production team .\\r...</td>\n",
       "      <td>-\\tHandle the full function of Production Mana...</td>\n",
       "      <td>Production</td>\n",
       "      <td>NaN</td>\n",
       "    </tr>\n",
       "    <tr>\n",
       "      <th>0</th>\n",
       "      <td>ผู้จัดการฝ่ายบุคคล</td>\n",
       "      <td>รับผิดชอบดูแลการบริหารงานบุคคล ในธุรกิจรถยนต์ ...</td>\n",
       "      <td>1. งานวางแผนกำลังคนและสรรหาว่าจ้าง - กำหนดนโยบ...</td>\n",
       "      <td>รับผิดชอบในการบริหารงานฝ่ายทรัพยากรบุคคล ซึ่งค...</td>\n",
       "      <td>พนักงานจัดซื้อ</td>\n",
       "      <td>1. จัดหาซัพพลายเออร์ใหม่ๆ พร้อมทั้งเปรียบเทียบ...</td>\n",
       "    </tr>\n",
       "    <tr>\n",
       "      <th>0</th>\n",
       "      <td>ผู้จัดการฝ่ายจัดซื้อ</td>\n",
       "      <td>จัดซื้อ วัตถุ ดิบ จัดหา แหล่งวัตถุดิบ ลดต้นทุน...</td>\n",
       "      <td>1.Sytem iso 9001 and ts 16949.contro quality s...</td>\n",
       "      <td>Planning, production, use grip to people.plans...</td>\n",
       "      <td>เจ้าหน้าที่ธุรการฝ่ายวิศวกรรม</td>\n",
       "      <td>ทำงานเอกสารส่วนงานช่าง จัดทำประวัติและทะเบียนเ...</td>\n",
       "    </tr>\n",
       "    <tr>\n",
       "      <th>0</th>\n",
       "      <td>วิศวกรฝ่ายขาย  SALE  ENGINEER</td>\n",
       "      <td>ประสานงานฝ่ายขาย 4 ฝ่ายขายสด , ขายเครดิต , ขาย...</td>\n",
       "      <td>ศึกษาข้อมูลผลิตภัณฑ์บริษัทฯ   ศึกษากระบวนการผล...</td>\n",
       "      <td>ศึกษาข้อมูลผลิตภัณฑ์บริษัทฯ   ศึกษากระบวนการผล...</td>\n",
       "      <td>พนักงานจัดซื้อ</td>\n",
       "      <td>1. จัดหาซัพพลายเออร์ใหม่ๆ พร้อมทั้งเปรียบเทียบ...</td>\n",
       "    </tr>\n",
       "    <tr>\n",
       "      <th>0</th>\n",
       "      <td>Operation &amp; Reservation Manager</td>\n",
       "      <td>* จัดทำแพคเกจการขาย โปรโมชั่นต่างๆเพื่อดึงดูดใ...</td>\n",
       "      <td>1.โต้ตอบอิเมลกับลูกค้า(เอเย่นต์) ทางต่างประเทศ...</td>\n",
       "      <td>NaN</td>\n",
       "      <td>Reservation</td>\n",
       "      <td>- รับจองทัวร์ทางโทรศัพท์\\r\\r\\n- ติดต่อไกด์ / พ...</td>\n",
       "    </tr>\n",
       "    <tr>\n",
       "      <th>0</th>\n",
       "      <td>Mechanical engineer</td>\n",
       "      <td>Control maintenance  department</td>\n",
       "      <td>Monitor and improve the maintenance of the pla...</td>\n",
       "      <td>Operation and maintenance : Steam boiler , Air...</td>\n",
       "      <td>Safety and Environment Assistant Manager.</td>\n",
       "      <td>- Support the QMR Manager for controlling ISO...</td>\n",
       "    </tr>\n",
       "    <tr>\n",
       "      <th>0</th>\n",
       "      <td>Manager</td>\n",
       "      <td>1.Set standard on quality control process in t...</td>\n",
       "      <td>1. Process control of all engineering concerne...</td>\n",
       "      <td>Responsibilities : Engineering section    \\r\\r...</td>\n",
       "      <td>เจ้าหน้าที่ฝ่ายบัญชี (Payment) ประจำสำนักงานให...</td>\n",
       "      <td>-Handle the Accounting functions in accordance...</td>\n",
       "    </tr>\n",
       "    <tr>\n",
       "      <th>0</th>\n",
       "      <td>Logistic Manager</td>\n",
       "      <td>- Control ELM System(WMS)\\r\\r\\n- SET UP PROCES...</td>\n",
       "      <td>- Overall responsible for planning starting fr...</td>\n",
       "      <td>- Control production process.\\r\\r\\n- Control a...</td>\n",
       "      <td>ผู้ช่วย merchandiser</td>\n",
       "      <td>1. ประสานงานกับ sale เพื่อรับส่งออร์เดอร์ \\r\\r...</td>\n",
       "    </tr>\n",
       "    <tr>\n",
       "      <th>0</th>\n",
       "      <td>Logistics</td>\n",
       "      <td>รับปผิดชอบ งาน -Rawmatirail ทั้งหมด งานPackagi...</td>\n",
       "      <td>ดูแลการ นำเข้าสินค้าจากฝ่ายผลิต  การจัดเก็บ สิ...</td>\n",
       "      <td>ดูแลการ นำเข้าสินค้าจากต่างประเทศ  การจัดเก็บ ...</td>\n",
       "      <td>Stock</td>\n",
       "      <td>-ดูแล Stock สินค้าของบริษัท\\r\\r\\n</td>\n",
       "    </tr>\n",
       "    <tr>\n",
       "      <th>0</th>\n",
       "      <td>วิศวกรไฟฟ้า</td>\n",
       "      <td>NaN</td>\n",
       "      <td>NaN</td>\n",
       "      <td>NaN</td>\n",
       "      <td>วิศวกรไฟฟ้า</td>\n",
       "      <td>NaN</td>\n",
       "    </tr>\n",
       "    <tr>\n",
       "      <th>0</th>\n",
       "      <td>Finance &amp; Accountan officer</td>\n",
       "      <td>Petty Cash,จัดหาsupplier ประสานงานภายใน ภายนอก...</td>\n",
       "      <td>ดูแลในส่วนของรายได้และค่าใช้จ่ายของแผนก การเก็...</td>\n",
       "      <td>รับวางบิล ตรวจเอกสารงานผลิตรายการโทรทัศน์,ภาพย...</td>\n",
       "      <td>พนักงานจัดซื้อ</td>\n",
       "      <td>1. จัดหาซัพพลายเออร์ใหม่ๆ พร้อมทั้งเปรียบเทียบ...</td>\n",
       "    </tr>\n",
       "    <tr>\n",
       "      <th>0</th>\n",
       "      <td>ผู้จัดการแผนกการเงิน</td>\n",
       "      <td>ทำหน้าที่ดูแลทั้งด้านการเงินและการบัญชี \\r\\r\\n...</td>\n",
       "      <td>ตรวจสอบการบันทึกบัญชีทั้งระบบ ตรวจสอบรายงานการ...</td>\n",
       "      <td>-จัดทำงบการเงิน รายละเอียดประกอบงบการเงิน วิเค...</td>\n",
       "      <td>Accouting Manager / ผู้จัดการบัญชี/การเงิน</td>\n",
       "      <td>- ทำงานเกี่ยวกับการบัญชี และวางระบบงานทางบัญชี...</td>\n",
       "    </tr>\n",
       "    <tr>\n",
       "      <th>0</th>\n",
       "      <td>ธุรการการตลาด</td>\n",
       "      <td>1.ดูแล รปภ.,แม่บ้าน,คนสวน\\r\\r\\n2.ดูแลเรื่องควา...</td>\n",
       "      <td>1.ตรวจเช็คสินค้าเข้า-ออกก่อนนำส่งลูกค้า\\r\\r\\n2...</td>\n",
       "      <td>1.แจ้งจดหมายการเข้าตรวจเช็คประจำแต่ละเดือน\\r\\r...</td>\n",
       "      <td>ธุรการฝ่ายสโตร์-จัดซื้อ</td>\n",
       "      <td>1.      จ่าย วัตถุดิบในการซ่อมบำรุงรถ\\r\\r\\n2.\\...</td>\n",
       "    </tr>\n",
       "    <tr>\n",
       "      <th>0</th>\n",
       "      <td>คลังสินค้าและจัดส่ง</td>\n",
       "      <td>1. ดูแลและจัดการการรับวัตถุดิบจากผู้ขาย\\r\\r\\n2...</td>\n",
       "      <td>ดูแลและจัดการการรับวัตถุดิบต่าง ๆ จากผู้ขาย\\r\\...</td>\n",
       "      <td>1) ดูแลและจัดการการทำงานของพนักงานเกี่ยวกับการ...</td>\n",
       "      <td>พนักงานจัดซื้อ</td>\n",
       "      <td>1. จัดหาซัพพลายเออร์ใหม่ๆ พร้อมทั้งเปรียบเทียบ...</td>\n",
       "    </tr>\n",
       "    <tr>\n",
       "      <th>0</th>\n",
       "      <td>Internal Audit (งานตรวจสอบภายใน)</td>\n",
       "      <td>1. จัดทำแผนการตรวจสอบเสนอคณะกรรมการตรวจสอบเพื่...</td>\n",
       "      <td>1. ตรวจสอบระบบการควบคุมภายในหน่วยบริการ(ปั๊มน้...</td>\n",
       "      <td>- ตรวจสอบระบบควบคุมภายในโรงงานและสาขา เช่น สิน...</td>\n",
       "      <td>หัวหน้าแผนกตรวจสอบภายใน Senior Internal Audit</td>\n",
       "      <td>1.ตรวจสอบและควบคุมการปฏิบัติงานด้านตรวจสอบภายใ...</td>\n",
       "    </tr>\n",
       "  </tbody>\n",
       "</table>\n",
       "</div>"
      ],
      "text/plain": [
       "                                    WantedPosition_1  \\\n",
       "0  Asst. CEO/Asst GM/Asst. Plant MGR / Production...   \n",
       "0  ผู้จัดการงานเร่งรัดหนี้สินติดตามหนี้สิน/บังคับคดี   \n",
       "0                                      บริหารการตลาด   \n",
       "0                                    Graphics Design   \n",
       "0                                  PM/CM/PE Engineer   \n",
       "0                                 Production Manager   \n",
       "0                                 ผู้จัดการฝ่ายบุคคล   \n",
       "0                               ผู้จัดการฝ่ายจัดซื้อ   \n",
       "0                      วิศวกรฝ่ายขาย  SALE  ENGINEER   \n",
       "0                    Operation & Reservation Manager   \n",
       "0                                Mechanical engineer   \n",
       "0                                            Manager   \n",
       "0                                   Logistic Manager   \n",
       "0                                          Logistics   \n",
       "0                                        วิศวกรไฟฟ้า   \n",
       "0                        Finance & Accountan officer   \n",
       "0                               ผู้จัดการแผนกการเงิน   \n",
       "0                                      ธุรการการตลาด   \n",
       "0                                คลังสินค้าและจัดส่ง   \n",
       "0                   Internal Audit (งานตรวจสอบภายใน)   \n",
       "\n",
       "                                          PrevDuty_1  \\\n",
       "0  Productivity Improvement 改善\\r\\r\\nLine Balancin...   \n",
       "0  ติดตามหนี้เช่าซื้อ ดำเนินการยึดเครื่องจักร ประ...   \n",
       "0  ดูแลบริหารงานส่วนการขาย  การบริการ  วางแผนงาน ...   \n",
       "0                         สอนวิชาทัศนศิลป์, จิตรกรรม   \n",
       "0  เซ็นต์ออกแบบ-ควบคุม ดำเนินการขออนุญาตก่อสร้าง ...   \n",
       "0  -\\tSupervise Production team .\\r\\r\\n-\\tEnsure ...   \n",
       "0  รับผิดชอบดูแลการบริหารงานบุคคล ในธุรกิจรถยนต์ ...   \n",
       "0  จัดซื้อ วัตถุ ดิบ จัดหา แหล่งวัตถุดิบ ลดต้นทุน...   \n",
       "0  ประสานงานฝ่ายขาย 4 ฝ่ายขายสด , ขายเครดิต , ขาย...   \n",
       "0  * จัดทำแพคเกจการขาย โปรโมชั่นต่างๆเพื่อดึงดูดใ...   \n",
       "0                    Control maintenance  department   \n",
       "0  1.Set standard on quality control process in t...   \n",
       "0  - Control ELM System(WMS)\\r\\r\\n- SET UP PROCES...   \n",
       "0  รับปผิดชอบ งาน -Rawmatirail ทั้งหมด งานPackagi...   \n",
       "0                                                NaN   \n",
       "0  Petty Cash,จัดหาsupplier ประสานงานภายใน ภายนอก...   \n",
       "0  ทำหน้าที่ดูแลทั้งด้านการเงินและการบัญชี \\r\\r\\n...   \n",
       "0  1.ดูแล รปภ.,แม่บ้าน,คนสวน\\r\\r\\n2.ดูแลเรื่องควา...   \n",
       "0  1. ดูแลและจัดการการรับวัตถุดิบจากผู้ขาย\\r\\r\\n2...   \n",
       "0  1. จัดทำแผนการตรวจสอบเสนอคณะกรรมการตรวจสอบเพื่...   \n",
       "\n",
       "                                          PrevDuty_2  \\\n",
       "0         1. Yield capacity analysis            \\...   \n",
       "0  ขายสินค้าเฟอร์นิเจอร์ กลุ่มพลาสติก และสแตนเลส ...   \n",
       "0  ตลาดเพชรอารี - คิดแผนงานการตลาด และรับผิดชอบใน...   \n",
       "0  Desing Catalogue,Web Design , Presentation ,Ed...   \n",
       "0  Drawing Drawn, Construction Permission, BOQ, S...   \n",
       "0  -\\tSupervise Warehouse and Production team .\\r...   \n",
       "0  1. งานวางแผนกำลังคนและสรรหาว่าจ้าง - กำหนดนโยบ...   \n",
       "0  1.Sytem iso 9001 and ts 16949.contro quality s...   \n",
       "0  ศึกษาข้อมูลผลิตภัณฑ์บริษัทฯ   ศึกษากระบวนการผล...   \n",
       "0  1.โต้ตอบอิเมลกับลูกค้า(เอเย่นต์) ทางต่างประเทศ...   \n",
       "0  Monitor and improve the maintenance of the pla...   \n",
       "0  1. Process control of all engineering concerne...   \n",
       "0  - Overall responsible for planning starting fr...   \n",
       "0  ดูแลการ นำเข้าสินค้าจากฝ่ายผลิต  การจัดเก็บ สิ...   \n",
       "0                                                NaN   \n",
       "0  ดูแลในส่วนของรายได้และค่าใช้จ่ายของแผนก การเก็...   \n",
       "0  ตรวจสอบการบันทึกบัญชีทั้งระบบ ตรวจสอบรายงานการ...   \n",
       "0  1.ตรวจเช็คสินค้าเข้า-ออกก่อนนำส่งลูกค้า\\r\\r\\n2...   \n",
       "0  ดูแลและจัดการการรับวัตถุดิบต่าง ๆ จากผู้ขาย\\r\\...   \n",
       "0  1. ตรวจสอบระบบการควบคุมภายในหน่วยบริการ(ปั๊มน้...   \n",
       "\n",
       "                                          PrevDuty_3  \\\n",
       "0  1. MRP schedule\\r\\r\\n                      Whe...   \n",
       "0  เร่งรัดหนี้สิน เป็นผู้รับมอบอำนาจของบริษัทฯ เพ...   \n",
       "0  บ. ดำเนินกิจการทางด้านร้านอาหาร โดยรับผิดชอบด้...   \n",
       "0  Design Sport Promote , vtr , title TV ,storyboard   \n",
       "0  เคลียร์-เขียนแบบ Shop และ Trainning CAD น้องๆว...   \n",
       "0  -\\tHandle the full function of Production Mana...   \n",
       "0  รับผิดชอบในการบริหารงานฝ่ายทรัพยากรบุคคล ซึ่งค...   \n",
       "0  Planning, production, use grip to people.plans...   \n",
       "0  ศึกษาข้อมูลผลิตภัณฑ์บริษัทฯ   ศึกษากระบวนการผล...   \n",
       "0                                                NaN   \n",
       "0  Operation and maintenance : Steam boiler , Air...   \n",
       "0  Responsibilities : Engineering section    \\r\\r...   \n",
       "0  - Control production process.\\r\\r\\n- Control a...   \n",
       "0  ดูแลการ นำเข้าสินค้าจากต่างประเทศ  การจัดเก็บ ...   \n",
       "0                                                NaN   \n",
       "0  รับวางบิล ตรวจเอกสารงานผลิตรายการโทรทัศน์,ภาพย...   \n",
       "0  -จัดทำงบการเงิน รายละเอียดประกอบงบการเงิน วิเค...   \n",
       "0  1.แจ้งจดหมายการเข้าตรวจเช็คประจำแต่ละเดือน\\r\\r...   \n",
       "0  1) ดูแลและจัดการการทำงานของพนักงานเกี่ยวกับการ...   \n",
       "0  - ตรวจสอบระบบควบคุมภายในโรงงานและสาขา เช่น สิน...   \n",
       "\n",
       "                                       predict_Title  \\\n",
       "0                                         พนักงาน it   \n",
       "0                                     พนักงานจัดซื้อ   \n",
       "0                                     พนักงานจัดซื้อ   \n",
       "0                                 พนักงานแผนก Design   \n",
       "0                    วิศวกรเขียนแบบ/ออกแบบ CAD 3D&2D   \n",
       "0                                         Production   \n",
       "0                                     พนักงานจัดซื้อ   \n",
       "0                      เจ้าหน้าที่ธุรการฝ่ายวิศวกรรม   \n",
       "0                                     พนักงานจัดซื้อ   \n",
       "0                                        Reservation   \n",
       "0          Safety and Environment Assistant Manager.   \n",
       "0  เจ้าหน้าที่ฝ่ายบัญชี (Payment) ประจำสำนักงานให...   \n",
       "0                               ผู้ช่วย merchandiser   \n",
       "0                                              Stock   \n",
       "0                                        วิศวกรไฟฟ้า   \n",
       "0                                     พนักงานจัดซื้อ   \n",
       "0         Accouting Manager / ผู้จัดการบัญชี/การเงิน   \n",
       "0                            ธุรการฝ่ายสโตร์-จัดซื้อ   \n",
       "0                                     พนักงานจัดซื้อ   \n",
       "0      หัวหน้าแผนกตรวจสอบภายใน Senior Internal Audit   \n",
       "\n",
       "                                 predict_Description  \n",
       "0  ดูแลระบบเครือข่าย ระบบข้อมูล ซ่อมและแก้ไขปัญหา...  \n",
       "0  1. จัดหาซัพพลายเออร์ใหม่ๆ พร้อมทั้งเปรียบเทียบ...  \n",
       "0  1. จัดหาซัพพลายเออร์ใหม่ๆ พร้อมทั้งเปรียบเทียบ...  \n",
       "0                                                NaN  \n",
       "0  - เขียนแบบ CAD 2D และ 3D ตามแบบที่ได้รับมอบหมา...  \n",
       "0                                                NaN  \n",
       "0  1. จัดหาซัพพลายเออร์ใหม่ๆ พร้อมทั้งเปรียบเทียบ...  \n",
       "0  ทำงานเอกสารส่วนงานช่าง จัดทำประวัติและทะเบียนเ...  \n",
       "0  1. จัดหาซัพพลายเออร์ใหม่ๆ พร้อมทั้งเปรียบเทียบ...  \n",
       "0  - รับจองทัวร์ทางโทรศัพท์\\r\\r\\n- ติดต่อไกด์ / พ...  \n",
       "0   - Support the QMR Manager for controlling ISO...  \n",
       "0  -Handle the Accounting functions in accordance...  \n",
       "0  1. ประสานงานกับ sale เพื่อรับส่งออร์เดอร์ \\r\\r...  \n",
       "0                  -ดูแล Stock สินค้าของบริษัท\\r\\r\\n  \n",
       "0                                                NaN  \n",
       "0  1. จัดหาซัพพลายเออร์ใหม่ๆ พร้อมทั้งเปรียบเทียบ...  \n",
       "0  - ทำงานเกี่ยวกับการบัญชี และวางระบบงานทางบัญชี...  \n",
       "0  1.      จ่าย วัตถุดิบในการซ่อมบำรุงรถ\\r\\r\\n2.\\...  \n",
       "0  1. จัดหาซัพพลายเออร์ใหม่ๆ พร้อมทั้งเปรียบเทียบ...  \n",
       "0  1.ตรวจสอบและควบคุมการปฏิบัติงานด้านตรวจสอบภายใ...  "
      ]
     },
     "execution_count": 17,
     "metadata": {},
     "output_type": "execute_result"
    }
   ],
   "source": [
    "pred"
   ]
  },
  {
   "cell_type": "markdown",
   "metadata": {},
   "source": [
    "## ตำแหน่งงานที่เหมาะสมกับผู้สมัคร 5 อันดับแรก"
   ]
  },
  {
   "cell_type": "code",
   "execution_count": 18,
   "metadata": {
    "collapsed": true
   },
   "outputs": [],
   "source": [
    "#ฟังก์ชันสำหรับทำนายผล\n",
    "def predictNumSimilarJob(app,num):\n",
    "    test = app\n",
    "    t = word_tokenize(test)\n",
    "    t = dictionary.doc2bow(t)\n",
    "    t = tfidf[t]\n",
    "\n",
    "    return position.loc[sims[t].argsort()[-num:][::-1]][['Title','Description']]"
   ]
  },
  {
   "cell_type": "code",
   "execution_count": 19,
   "metadata": {},
   "outputs": [
    {
     "name": "stderr",
     "output_type": "stream",
     "text": [
      "D:\\Anaconda3\\lib\\site-packages\\pandas\\core\\indexes\\api.py:77: RuntimeWarning: '<' not supported between instances of 'str' and 'int', sort order is undefined for incomparable objects\n",
      "  result = result.union(other)\n"
     ]
    }
   ],
   "source": [
    "predNumJob = pd.DataFrame()\n",
    "current_pred = predictNumSimilarJob(app[3],5)\n",
    "current_pred = pd.concat([app_profile.loc[3], current_pred], axis=1)"
   ]
  },
  {
   "cell_type": "code",
   "execution_count": 20,
   "metadata": {},
   "outputs": [
    {
     "data": {
      "text/html": [
       "<div>\n",
       "<style>\n",
       "    .dataframe thead tr:only-child th {\n",
       "        text-align: right;\n",
       "    }\n",
       "\n",
       "    .dataframe thead th {\n",
       "        text-align: left;\n",
       "    }\n",
       "\n",
       "    .dataframe tbody tr th {\n",
       "        vertical-align: top;\n",
       "    }\n",
       "</style>\n",
       "<table border=\"1\" class=\"dataframe\">\n",
       "  <thead>\n",
       "    <tr style=\"text-align: right;\">\n",
       "      <th></th>\n",
       "      <th>3</th>\n",
       "      <th>Title</th>\n",
       "      <th>Description</th>\n",
       "    </tr>\n",
       "  </thead>\n",
       "  <tbody>\n",
       "    <tr>\n",
       "      <th>WantedPosition_1</th>\n",
       "      <td>Graphics Design</td>\n",
       "      <td>NaN</td>\n",
       "      <td>NaN</td>\n",
       "    </tr>\n",
       "    <tr>\n",
       "      <th>PrevDuty_1</th>\n",
       "      <td>สอนวิชาทัศนศิลป์, จิตรกรรม</td>\n",
       "      <td>NaN</td>\n",
       "      <td>NaN</td>\n",
       "    </tr>\n",
       "    <tr>\n",
       "      <th>PrevDuty_2</th>\n",
       "      <td>Desing Catalogue,Web Design , Presentation ,Ed...</td>\n",
       "      <td>NaN</td>\n",
       "      <td>NaN</td>\n",
       "    </tr>\n",
       "    <tr>\n",
       "      <th>PrevDuty_3</th>\n",
       "      <td>Design Sport Promote , vtr , title TV ,storyboard</td>\n",
       "      <td>NaN</td>\n",
       "      <td>NaN</td>\n",
       "    </tr>\n",
       "    <tr>\n",
       "      <th>44860</th>\n",
       "      <td>NaN</td>\n",
       "      <td>พนักงานแผนก Design</td>\n",
       "      <td>NaN</td>\n",
       "    </tr>\n",
       "    <tr>\n",
       "      <th>8898</th>\n",
       "      <td>NaN</td>\n",
       "      <td>พนักงานออกแบบ ( Design )</td>\n",
       "      <td>NaN</td>\n",
       "    </tr>\n",
       "    <tr>\n",
       "      <th>27913</th>\n",
       "      <td>NaN</td>\n",
       "      <td>Design</td>\n",
       "      <td>เขียนแบบ ออกแบบเครื่องจักร</td>\n",
       "    </tr>\n",
       "    <tr>\n",
       "      <th>57042</th>\n",
       "      <td>NaN</td>\n",
       "      <td>Design</td>\n",
       "      <td>- ออกแบบ (Design) 3D , 2D\\r\\r\\n- งานเกี่ยวกับอ...</td>\n",
       "    </tr>\n",
       "    <tr>\n",
       "      <th>48690</th>\n",
       "      <td>NaN</td>\n",
       "      <td>Design</td>\n",
       "      <td>- ติดตามงานและสรุปงานที่ออกแบบกับลูกค้า\\r\\r\\n-...</td>\n",
       "    </tr>\n",
       "  </tbody>\n",
       "</table>\n",
       "</div>"
      ],
      "text/plain": [
       "                                                                  3  \\\n",
       "WantedPosition_1                                    Graphics Design   \n",
       "PrevDuty_1                               สอนวิชาทัศนศิลป์, จิตรกรรม   \n",
       "PrevDuty_2        Desing Catalogue,Web Design , Presentation ,Ed...   \n",
       "PrevDuty_3        Design Sport Promote , vtr , title TV ,storyboard   \n",
       "44860                                                           NaN   \n",
       "8898                                                            NaN   \n",
       "27913                                                           NaN   \n",
       "57042                                                           NaN   \n",
       "48690                                                           NaN   \n",
       "\n",
       "                                     Title  \\\n",
       "WantedPosition_1                       NaN   \n",
       "PrevDuty_1                             NaN   \n",
       "PrevDuty_2                             NaN   \n",
       "PrevDuty_3                             NaN   \n",
       "44860                   พนักงานแผนก Design   \n",
       "8898              พนักงานออกแบบ ( Design )   \n",
       "27913                              Design    \n",
       "57042                               Design   \n",
       "48690                               Design   \n",
       "\n",
       "                                                        Description  \n",
       "WantedPosition_1                                                NaN  \n",
       "PrevDuty_1                                                      NaN  \n",
       "PrevDuty_2                                                      NaN  \n",
       "PrevDuty_3                                                      NaN  \n",
       "44860                                                           NaN  \n",
       "8898                                                            NaN  \n",
       "27913                                    เขียนแบบ ออกแบบเครื่องจักร  \n",
       "57042             - ออกแบบ (Design) 3D , 2D\\r\\r\\n- งานเกี่ยวกับอ...  \n",
       "48690             - ติดตามงานและสรุปงานที่ออกแบบกับลูกค้า\\r\\r\\n-...  "
      ]
     },
     "execution_count": 20,
     "metadata": {},
     "output_type": "execute_result"
    }
   ],
   "source": [
    "current_pred"
   ]
  },
  {
   "cell_type": "code",
   "execution_count": 21,
   "metadata": {
    "collapsed": true
   },
   "outputs": [],
   "source": [
    "x = pd.DataFrame()\n",
    "y = pd.DataFrame()\n",
    "num = 5\n",
    "for i in range(0,10):\n",
    "    current_pred = predictNumSimilarJob(app[i],5)\n",
    "    for j in current_pred.index:\n",
    "        x = pd.concat([app_profile.loc[i], current_pred.loc[j]])\n",
    "        y = pd.concat([y, x], axis=1)\n",
    "y = y.T\n",
    "predictNumJob = y[['WantedPosition_1','PrevDuty_1','PrevDuty_2','PrevDuty_3','Title','Description']]"
   ]
  },
  {
   "cell_type": "code",
   "execution_count": 22,
   "metadata": {
    "collapsed": true
   },
   "outputs": [],
   "source": [
    "#predictNumJob"
   ]
  },
  {
   "cell_type": "code",
   "execution_count": 23,
   "metadata": {
    "collapsed": true
   },
   "outputs": [],
   "source": [
    "def predictEachJobNumber(number):\n",
    "    print(applicant['WantedPosition_1'].loc[number])\n",
    "    print('\\n')\n",
    "    print(applicant['PrevDuty_1'].loc[number])\n",
    "    print(applicant['PrevDuty_2'].loc[number])\n",
    "    print(applicant['PrevDuty_3'].loc[number])\n",
    "    return predictNumSimilarJob(app.loc[number],5)"
   ]
  },
  {
   "cell_type": "code",
   "execution_count": 24,
   "metadata": {},
   "outputs": [
    {
     "name": "stdout",
     "output_type": "stream",
     "text": [
      "Graphics Design\n",
      "\n",
      "\n",
      "สอนวิชาทัศนศิลป์, จิตรกรรม\n",
      "Desing Catalogue,Web Design , Presentation ,Editor VDO\n",
      "Design Sport Promote , vtr , title TV ,storyboard\n"
     ]
    },
    {
     "data": {
      "text/html": [
       "<div>\n",
       "<style>\n",
       "    .dataframe thead tr:only-child th {\n",
       "        text-align: right;\n",
       "    }\n",
       "\n",
       "    .dataframe thead th {\n",
       "        text-align: left;\n",
       "    }\n",
       "\n",
       "    .dataframe tbody tr th {\n",
       "        vertical-align: top;\n",
       "    }\n",
       "</style>\n",
       "<table border=\"1\" class=\"dataframe\">\n",
       "  <thead>\n",
       "    <tr style=\"text-align: right;\">\n",
       "      <th></th>\n",
       "      <th>Title</th>\n",
       "      <th>Description</th>\n",
       "    </tr>\n",
       "  </thead>\n",
       "  <tbody>\n",
       "    <tr>\n",
       "      <th>44860</th>\n",
       "      <td>พนักงานแผนก Design</td>\n",
       "      <td>NaN</td>\n",
       "    </tr>\n",
       "    <tr>\n",
       "      <th>8898</th>\n",
       "      <td>พนักงานออกแบบ ( Design )</td>\n",
       "      <td>NaN</td>\n",
       "    </tr>\n",
       "    <tr>\n",
       "      <th>27913</th>\n",
       "      <td>Design</td>\n",
       "      <td>เขียนแบบ ออกแบบเครื่องจักร</td>\n",
       "    </tr>\n",
       "    <tr>\n",
       "      <th>57042</th>\n",
       "      <td>Design</td>\n",
       "      <td>- ออกแบบ (Design) 3D , 2D\\r\\r\\n- งานเกี่ยวกับอ...</td>\n",
       "    </tr>\n",
       "    <tr>\n",
       "      <th>48690</th>\n",
       "      <td>Design</td>\n",
       "      <td>- ติดตามงานและสรุปงานที่ออกแบบกับลูกค้า\\r\\r\\n-...</td>\n",
       "    </tr>\n",
       "  </tbody>\n",
       "</table>\n",
       "</div>"
      ],
      "text/plain": [
       "                          Title  \\\n",
       "44860        พนักงานแผนก Design   \n",
       "8898   พนักงานออกแบบ ( Design )   \n",
       "27913                   Design    \n",
       "57042                    Design   \n",
       "48690                    Design   \n",
       "\n",
       "                                             Description  \n",
       "44860                                                NaN  \n",
       "8898                                                 NaN  \n",
       "27913                         เขียนแบบ ออกแบบเครื่องจักร  \n",
       "57042  - ออกแบบ (Design) 3D , 2D\\r\\r\\n- งานเกี่ยวกับอ...  \n",
       "48690  - ติดตามงานและสรุปงานที่ออกแบบกับลูกค้า\\r\\r\\n-...  "
      ]
     },
     "execution_count": 24,
     "metadata": {},
     "output_type": "execute_result"
    }
   ],
   "source": [
    "predictEachJobNumber(3)"
   ]
  }
 ],
 "metadata": {
  "kernelspec": {
   "display_name": "Python 3",
   "language": "python",
   "name": "python3"
  },
  "language_info": {
   "codemirror_mode": {
    "name": "ipython",
    "version": 3
   },
   "file_extension": ".py",
   "mimetype": "text/x-python",
   "name": "python",
   "nbconvert_exporter": "python",
   "pygments_lexer": "ipython3",
   "version": "3.6.3"
  }
 },
 "nbformat": 4,
 "nbformat_minor": 2
}
