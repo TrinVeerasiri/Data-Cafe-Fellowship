{
 "cells": [
  {
   "cell_type": "markdown",
   "metadata": {},
   "source": [
    "# ขั้นที่ 1: Merge table\n",
    "เริ่มด้วยการพิจารณาข้อมูลแบบคร่าวๆ และนำข้อมูลที่ถูกจัดเก็บในหลาย table มารวม merge กันให้กลายเป็น table เดียว"
   ]
  },
  {
   "cell_type": "code",
   "execution_count": 56,
   "metadata": {
    "collapsed": true
   },
   "outputs": [],
   "source": [
    "import pandas as pd\n",
    "import numpy as np\n",
    "import matplotlib.pyplot as plt\n",
    "import seaborn as sns\n",
    "import re"
   ]
  },
  {
   "cell_type": "markdown",
   "metadata": {},
   "source": [
    "# โหลดข้อมูล\n",
    "---"
   ]
  },
  {
   "cell_type": "code",
   "execution_count": 57,
   "metadata": {},
   "outputs": [
    {
     "name": "stderr",
     "output_type": "stream",
     "text": [
      "D:\\Anaconda3\\lib\\site-packages\\IPython\\core\\interactiveshell.py:2728: DtypeWarning: Columns (5,6,22,26,43) have mixed types. Specify dtype option on import or set low_memory=False.\n",
      "  interactivity=interactivity, compiler=compiler, result=result)\n"
     ]
    },
    {
     "name": "stdout",
     "output_type": "stream",
     "text": [
      "---------- Shape of dataframe ----------\n",
      "applicant (ผู้สมัคร): (1142772, 67)\n",
      "application (ใบสมัคร): (1108101, 5)\n",
      "position (ตำแหน่ง): (59826, 22)\n",
      "company (บริษัท): (13245, 4)\n"
     ]
    }
   ],
   "source": [
    "applicant = pd.read_csv(\"data/jobthai/applicant_df.csv\")\n",
    "application = pd.read_csv(\"data/jobthai/application_df.csv\")\n",
    "company = pd.read_csv(\"data/jobthai/company_df.csv\")\n",
    "position = pd.read_csv(\"data/jobthai/position_df.csv\")\n",
    "\n",
    "print('---------- Shape of dataframe ----------')\n",
    "print('applicant (ผู้สมัคร):', applicant.shape)\n",
    "print('application (ใบสมัคร):', application.shape)\n",
    "print('position (ตำแหน่ง):', position.shape)\n",
    "print('company (บริษัท):', company.shape)"
   ]
  },
  {
   "cell_type": "markdown",
   "metadata": {},
   "source": [
    "# ระยะเวลาที่ของข้อมูลใน Position และ Applicant\n",
    "---"
   ]
  },
  {
   "cell_type": "code",
   "execution_count": 58,
   "metadata": {},
   "outputs": [
    {
     "name": "stdout",
     "output_type": "stream",
     "text": [
      "------------------------------------------------\n",
      "ตรวจสอบช่วงเวลาที่เก็บข้อมูลของ position และ application\n",
      "------------------------------------------------\n",
      "position:\n",
      "ตัวอย่างล่าสุด 2018-03-27 10:49:40\n",
      "ตัวอย่างที่เก่าที่สุด 2017-12-27 00:00:00\n",
      "\n",
      "\n",
      "application:\n",
      "ตัวอย่างล่าสุด 2018-02-05 14:00:00\n",
      "ตัวอย่างที่เก่าที่สุด 2018-01-01 00:01:14\n"
     ]
    }
   ],
   "source": [
    "print('------------------------------------------------')\n",
    "print('ตรวจสอบช่วงเวลาที่เก็บข้อมูลของ position และ application')\n",
    "print('------------------------------------------------')\n",
    "print('position:')\n",
    "print('ตัวอย่างล่าสุด', position['Date'].max())\n",
    "print('ตัวอย่างที่เก่าที่สุด', position['Date'].min())\n",
    "print('\\n')\n",
    "print('application:')\n",
    "print('ตัวอย่างล่าสุด', application['AppliedDate'].max())\n",
    "print('ตัวอย่างที่เก่าที่สุด', application['AppliedDate'].min())"
   ]
  },
  {
   "cell_type": "markdown",
   "metadata": {},
   "source": [
    "### สรุป\n",
    "ตำแหน่งงานบนฐานข้อมูลมีตั้งแต่ 12/2017 - 03/2018 ส่วนใบสมัครมีแค่เดือนเดียว คือ 01/2018 - 02/2018\n",
    "ในใบสมัครมีบาง \"PositionID\" ที่ไม่เหมือนกับ \"PositionID\" ของตำแหน่ง สาเหตุอาจมาจากผู้สมัครทำการสมัครงานเก่าที่อยู่นอกเหนือฐานข้อมูลของตำแหน่งที่เก็บมาในระยะ 4 เดือนข้างต้น"
   ]
  },
  {
   "cell_type": "markdown",
   "metadata": {},
   "source": [
    "# Merge all information\n",
    "---"
   ]
  },
  {
   "cell_type": "code",
   "execution_count": 9,
   "metadata": {
    "collapsed": true
   },
   "outputs": [],
   "source": [
    "#Change column name\n",
    "applicant = applicant.rename(columns = {'Salary': 'appSalary', \n",
    "                                    'MinSalary': 'appMinSalary',\n",
    "                                    'MaxSalary': 'appMaxSalary',\n",
    "                                    'JobCate_1': 'appJobCate_1',\n",
    "                                    'JobCate_2': 'appJobCate_2',\n",
    "                                    'Province': 'appProvince',\n",
    "                                    'Amphoe': 'appAmphoe',\n",
    "                                    'Tambon': 'appTambon'})\n",
    "\n",
    "position = position.rename(columns = {'Salary': 'posSalary', \n",
    "                                    'MinSalary': 'posMinSalary', \n",
    "                                    'MaxSalary': 'posMaxSalary',\n",
    "                                    'JobCate': 'posJobCate',\n",
    "                                    'SubJobCate': 'posSubJobCate'})\n",
    "                                    \n",
    "company = company.rename(columns = {'Province': 'comProvince',\n",
    "                                    'Amphoe': 'comAmphoe',\n",
    "                                    'Tambon': 'comTambon'})    "
   ]
  },
  {
   "cell_type": "code",
   "execution_count": 10,
   "metadata": {
    "collapsed": true
   },
   "outputs": [],
   "source": [
    "alldata = pd.merge(application, position, how='inner', on='PositionID')\n",
    "alldata = pd.merge(alldata, applicant, how='inner', on='ApplicantID')"
   ]
  },
  {
   "cell_type": "code",
   "execution_count": 11,
   "metadata": {
    "collapsed": true
   },
   "outputs": [],
   "source": [
    "alldata = alldata.rename(columns = {'CompanyID_x': 'CompanyID'})\n",
    "alldata = pd.merge(alldata, company, how='inner', on='CompanyID')"
   ]
  },
  {
   "cell_type": "markdown",
   "metadata": {},
   "source": [
    "# Select data\n",
    "---"
   ]
  },
  {
   "cell_type": "code",
   "execution_count": 52,
   "metadata": {},
   "outputs": [
    {
     "name": "stdout",
     "output_type": "stream",
     "text": [
      "-----------------------------------------\n",
      "กลุ่มตัวอย่างที่เราสนใจคือใบสมัครจำนวน:  1042077 ใบ\n",
      "-----------------------------------------\n"
     ]
    }
   ],
   "source": [
    "df  =        alldata[['ApplicantID','ApplicationID', 'PositionID', 'CompanyID',\n",
    "                    #Target\n",
    "                    'AppliedDate',\n",
    "                    #From applicant\n",
    "                    'Gender','BirthDate','WantedPosition_1', 'appJobCate_1','WantedPosition_2', \n",
    "                    'appJobCate_2', 'Skill_1', 'Skill_2', 'Skill_3','Skill_4', 'Skill_5', 'WorkPlace',\n",
    "                    'appMinSalary','appMaxSalary',\n",
    "                    'EduField',\n",
    "                    'GradLevel_1','GradSchool_1','GradField_1','GradDegree_1','GradCategory_1','GradFaculty_1',\n",
    "                    'GradLevel_2','GradSchool_2','GradField_2','GradDegree_2','GradCategory_2','GradFaculty_2',\n",
    "                    'GradLevel_3','GradSchool_3','GradField_3','GradDegree_3','GradCategory_3','GradFaculty_3',\n",
    "                    'PrevPosition_1','PrevCategory_1','PrevLevel_1','PrevDuty_1','PrevSalary_1',\n",
    "                    'PrevPosition_2','PrevCategory_2','PrevLevel_2','PrevDuty_2','PrevSalary_2',\n",
    "                    'PrevPosition_3','PrevCategory_3','PrevLevel_3','PrevDuty_3','PrevSalary_3',\n",
    "                    'appProvince','appAmphoe','appTambon',\n",
    "                    'StartWorkYear','WorkExperience',\n",
    "                    'PrevSalary_1_ext','PrevSalary_2_ext','PrevSalary_3_ext',\n",
    "                    #From position\n",
    "                    'Title','Description','posJobCate','posSubJobCate',\n",
    "                    'Skill1','Skill2','Skill3','Skill4','Skill5',\n",
    "                    'Skill6','Skill7','Skill8','Skill9','Skill10',\n",
    "                    'posSalary','posMinSalary','posMaxSalary','PositionNumber',\n",
    "                    'Date','Online', \n",
    "                    'comProvince','comAmphoe','comTambon'\n",
    "                    ]]\n",
    "\n",
    "print('-----------------------------------------')\n",
    "print('กลุ่มตัวอย่างที่เราสนใจคือใบสมัครจำนวน: ', df.shape[0], 'ใบ')\n",
    "print('-----------------------------------------')"
   ]
  },
  {
   "cell_type": "code",
   "execution_count": 55,
   "metadata": {
    "collapsed": true
   },
   "outputs": [],
   "source": [
    "#df[df['ApplicantID'] == 'มีใจรักในเทคโนโลยีและ Apple']"
   ]
  },
  {
   "cell_type": "code",
   "execution_count": 54,
   "metadata": {
    "collapsed": true
   },
   "outputs": [],
   "source": [
    "#Save เป็น file .csv\n",
    "df.to_csv('df_noOutliers.csv', encoding='utf-8')"
   ]
  },
  {
   "cell_type": "markdown",
   "metadata": {},
   "source": [
    "## ตัดตัวอย่างที่เป็น outliers ออก"
   ]
  },
  {
   "cell_type": "code",
   "execution_count": 45,
   "metadata": {},
   "outputs": [
    {
     "data": {
      "image/png": "[encoded data removed]",
      "text/plain": [
       "<matplotlib.figure.Figure at 0x247d62faa90>"
      ]
     },
     "metadata": {},
     "output_type": "display_data"
    },
    {
     "data": {
      "image/png": "[encoded data removed]",
      "text/plain": [
       "<matplotlib.figure.Figure at 0x247d62fa9b0>"
      ]
     },
     "metadata": {},
     "output_type": "display_data"
    },
    {
     "name": "stdout",
     "output_type": "stream",
     "text": [
      "สรุปจำนวนกลุ่มตัวอย่างที่เราสนใจ\n",
      "-----------------------\n",
      "ตัดผู้สมัครที่มีจำนวนครั้งการสมัครเยอะผิดปกติออก จะได้ผลดังนี้\n",
      "\n",
      "\n",
      "จำนวนผู้สมัคร\n",
      "จากผู้มัคร:  101276 คน\n",
      "ตัดผู้สมัคร:  10696 คน\n",
      "เหลือจำนวนผู้สมัคร:  90580 คน\n",
      "\n",
      "\n",
      "จำนวนใบสมัคร\n",
      "จากใบสมัคร:  1042077 ใบ\n",
      "ตัดใบสมัคร:  531261 ใบ\n",
      "เหลือจำนวนใบสมัคร:  510816 ใบ\n"
     ]
    }
   ],
   "source": [
    "#คนที่สมัครเยอะมากๆ ผู้สมัครพวกนี้เป็น outliers เราอาจจะต้องตัดทิ้ง ลองดู boxplot ก่อน\n",
    "x = df.groupby('ApplicantID', as_index=False)['PositionID'].count()\n",
    "x = x.rename(columns = {'PositionID': 'posCount'})\n",
    "x = x.sort_values(by=['posCount'], ascending=False)\n",
    "\n",
    "#plt.figure(figsize=[14,10])\n",
    "ax = sns.boxplot(x=x['posCount'])\n",
    "ax.set_xlabel('Number of job apply for each applicant',fontsize=12)\n",
    "plt.show()\n",
    "\n",
    "#plot histogram\n",
    "ax = sns.distplot(x['posCount'])\n",
    "plt.show()\n",
    "\n",
    "#ผู้สมัครบางคนสมัครงานหลายครั้งมากๆ เป็น outliers ต้องตัดทิ้ง\n",
    "#Q3 + 1.5*IQ\n",
    "IQ = x.describe().loc['75%'] - x.describe().loc['25%']\n",
    "normal_range = x.describe().loc['75%'] + 1.5*IQ\n",
    "normal_range = round(normal_range[0])\n",
    "\n",
    "#ดึงเฉพาะแถวที่เป็นตัวอย่างปกติ\n",
    "appID = x[x['posCount'] < normal_range]['ApplicantID']\n",
    "noOutliers = df[df['ApplicantID'].isin(appID)]\n",
    "applicationNorSize = noOutliers.shape[0]\n",
    "noOutliers = noOutliers.groupby('ApplicantID')['PositionID'].count()\n",
    "appNorSize = noOutliers.shape[0]\n",
    "\n",
    "outlierID = x[x['posCount'] >= normal_range]['ApplicantID']\n",
    "outliers = df[df['ApplicantID'].isin(outlierID)]\n",
    "applicationOutSize = outliers.shape[0]\n",
    "outliers = outliers.groupby('ApplicantID')['PositionID'].count()\n",
    "appOutSize = outliers.shape[0]\n",
    "\n",
    "print('สรุปจำนวนกลุ่มตัวอย่างที่เราสนใจ')\n",
    "print('-----------------------')\n",
    "print('ตัดผู้สมัครที่มีจำนวนครั้งการสมัครเยอะผิดปกติออก จะได้ผลดังนี้')\n",
    "print('\\n')\n",
    "print('จำนวนผู้สมัคร')\n",
    "print('จากผู้มัคร: ', appNorSize+appOutSize, 'คน')\n",
    "print('ตัดผู้สมัคร: ', appOutSize, 'คน')\n",
    "print('เหลือจำนวนผู้สมัคร: ', appNorSize, 'คน')\n",
    "print('\\n')\n",
    "print('จำนวนใบสมัคร')\n",
    "print('จากใบสมัคร: ', applicationNorSize+applicationOutSize, 'ใบ')\n",
    "print('ตัดใบสมัคร: ', applicationOutSize, 'ใบ')\n",
    "print('เหลือจำนวนใบสมัคร: ', applicationNorSize, 'ใบ')\n",
    "\n",
    "#สร้าง dataframe ใหม่เฉพาะตัวอย่างที่มีจำนวนการสมัครงานปกติ\n",
    "df = df[df['ApplicantID'].isin(noOutliers.index) == True]"
   ]
  },
  {
   "cell_type": "markdown",
   "metadata": {},
   "source": [
    "# Save to csv\n",
    "---"
   ]
  },
  {
   "cell_type": "code",
   "execution_count": null,
   "metadata": {
    "collapsed": true
   },
   "outputs": [],
   "source": [
    "#Save เป็น file .csv\n",
    "df.head(100).to_csv('df_noOutliers.csv', encoding='utf-8')"
   ]
  }
 ],
 "metadata": {
  "kernelspec": {
   "display_name": "Python 3",
   "language": "python",
   "name": "python3"
  },
  "language_info": {
   "codemirror_mode": {
    "name": "ipython",
    "version": 3
   },
   "file_extension": ".py",
   "mimetype": "text/x-python",
   "name": "python",
   "nbconvert_exporter": "python",
   "pygments_lexer": "ipython3",
   "version": "3.6.3"
  }
 },
 "nbformat": 4,
 "nbformat_minor": 2
}
