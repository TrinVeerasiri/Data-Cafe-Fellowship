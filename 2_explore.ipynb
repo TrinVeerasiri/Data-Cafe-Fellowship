{
 "cells": [
  {
   "cell_type": "markdown",
   "metadata": {},
   "source": [
    "# ขั้นที่ 2: Explore data\n",
    "เริ่มตรวจสอบข้อมูล พิจารณาว่าปัจจัยใดที่มีผลให้ผู้สมัครเลือกสมัครงานนั้นๆ เริ่มต้นจากการตั้งสมมติฐานว่า ผู้สมัครจะสมัครงานที่ต้องการทำเป็นอันดับแรก plot graph เพื่อทดสอบสมมติฐานที่ตั้งไว้\n",
    "\n",
    "พิจารณาต่อที่คอลัมน์ \"WantedPosition\" ซึ่งเป็นชื่อตำแหน่งแบบ raw text มีคอลัมน์ที่ label ประเภทของงานเป็น JobCate และแบ่งย่อยลงไปอีกเป็น SubJobCate เราจึงนำข้อมูลมาเรียงดูว่าในแต่ละ label นั้นมีชื่อตำแหน่งงานใดเยอะที่สุด เป้าหมายก็คือการพยายามหา keyword ของแต่ละกลุ่มงาน จากนั้นสร้างไฟล์ .csv เพื่อเก็บไว้พิจารณาในขั้นตอนต่อไป"
   ]
  },
  {
   "cell_type": "code",
   "execution_count": 36,
   "metadata": {
    "collapsed": true
   },
   "outputs": [],
   "source": [
    "import pandas as pd\n",
    "import numpy as np\n",
    "import matplotlib.pyplot as plt\n",
    "import seaborn as sns\n",
    "import re"
   ]
  },
  {
   "cell_type": "code",
   "execution_count": 51,
   "metadata": {
    "collapsed": true
   },
   "outputs": [],
   "source": [
    "df = pd.read_csv(\"data/jobthai/df_noOutliers.csv\", index_col='Unnamed: 0')"
   ]
  },
  {
   "cell_type": "markdown",
   "metadata": {},
   "source": [
    "## สร้าง file excel เพื่อพิจารณาเบื้องต้น"
   ]
  },
  {
   "cell_type": "code",
   "execution_count": 54,
   "metadata": {
    "collapsed": true
   },
   "outputs": [],
   "source": [
    "age = pd.to_datetime('today').year - pd.to_datetime(df['BirthDate']).dt.year\n",
    "age = age.fillna(0).astype(int)\n",
    "df['age'] = age"
   ]
  },
  {
   "cell_type": "code",
   "execution_count": 56,
   "metadata": {},
   "outputs": [
    {
     "data": {
      "text/plain": [
       "array(['ApplicantID', 'ApplicationID', 'PositionID', 'CompanyID',\n",
       "       'AppliedDate', 'Gender', 'BirthDate', 'WantedPosition_1',\n",
       "       'appJobCate_1', 'WantedPosition_2', 'appJobCate_2', 'Skill_1',\n",
       "       'Skill_2', 'Skill_3', 'Skill_4', 'Skill_5', 'WorkPlace',\n",
       "       'appMinSalary', 'appMaxSalary', 'EduField', 'GradLevel_1',\n",
       "       'GradSchool_1', 'GradField_1', 'GradDegree_1', 'GradCategory_1',\n",
       "       'GradFaculty_1', 'GradLevel_2', 'GradSchool_2', 'GradField_2',\n",
       "       'GradDegree_2', 'GradCategory_2', 'GradFaculty_2', 'GradLevel_3',\n",
       "       'GradSchool_3', 'GradField_3', 'GradDegree_3', 'GradCategory_3',\n",
       "       'GradFaculty_3', 'PrevPosition_1', 'PrevCategory_1', 'PrevLevel_1',\n",
       "       'PrevDuty_1', 'PrevSalary_1', 'PrevPosition_2', 'PrevCategory_2',\n",
       "       'PrevLevel_2', 'PrevDuty_2', 'PrevSalary_2', 'PrevPosition_3',\n",
       "       'PrevCategory_3', 'PrevLevel_3', 'PrevDuty_3', 'PrevSalary_3',\n",
       "       'appProvince', 'appAmphoe', 'appTambon', 'StartWorkYear',\n",
       "       'WorkExperience', 'PrevSalary_1_ext', 'PrevSalary_2_ext',\n",
       "       'PrevSalary_3_ext', 'Title', 'Description', 'posJobCate',\n",
       "       'posSubJobCate', 'Skill1', 'Skill2', 'Skill3', 'Skill4', 'Skill5',\n",
       "       'Skill6', 'Skill7', 'Skill8', 'Skill9', 'Skill10', 'posSalary',\n",
       "       'posMinSalary', 'posMaxSalary', 'PositionNumber', 'Date', 'Online',\n",
       "       'comProvince', 'comAmphoe', 'comTambon', 'age'], dtype=object)"
      ]
     },
     "execution_count": 56,
     "metadata": {},
     "output_type": "execute_result"
    }
   ],
   "source": [
    "df.columns.values"
   ]
  },
  {
   "cell_type": "code",
   "execution_count": 61,
   "metadata": {},
   "outputs": [
    {
     "data": {
      "text/plain": [
       "0        NaN\n",
       "1    25000.0\n",
       "2        NaN\n",
       "3    35000.0\n",
       "4    35000.0\n",
       "Name: PrevSalary_1_ext, dtype: float64"
      ]
     },
     "execution_count": 61,
     "metadata": {},
     "output_type": "execute_result"
    }
   ],
   "source": [
    "df['PrevSalary_1_ext'].head()"
   ]
  },
  {
   "cell_type": "code",
   "execution_count": 68,
   "metadata": {
    "collapsed": true
   },
   "outputs": [],
   "source": [
    "#df = df.drop(['ApplicationID', 'ApplicantID', 'PositionID', 'CompanyID', 'AppliedDate], axis=1)\n",
    "#df.head(100).to_csv('df_countOutliers100.csv', encoding='utf-8')\n",
    "\n",
    "explore = df[['Gender','age','WantedPosition_1',\n",
    "       'appJobCate_1', 'WantedPosition_2', 'appJobCate_2', 'Skill_1',\n",
    "       'Skill_2', 'Skill_3', 'Skill_4', 'Skill_5', 'WorkPlace',\n",
    "       'appMinSalary', 'appMaxSalary', 'EduField', 'GradLevel_1','GradField_1','GradCategory_1',\n",
    "              'GradLevel_2','GradField_2','GradCategory_2',\n",
    "             'GradLevel_3','GradField_3','GradCategory_3',\n",
    "             'PrevPosition_1', 'PrevDuty_1','PrevCategory_1','PrevSalary_1',\n",
    "             'PrevPosition_2', 'PrevDuty_2','PrevCategory_2','PrevSalary_2',\n",
    "             'PrevPosition_3', 'PrevDuty_3','PrevCategory_3','PrevSalary_3',\n",
    "              'appTambon',\n",
    "              'StartWorkYear',\n",
    "       'WorkExperience', 'PrevSalary_1_ext', 'PrevSalary_2_ext',\n",
    "       'PrevSalary_3_ext',\n",
    "              'Title', 'Description', 'posJobCate',\n",
    "       'posSubJobCate', 'Skill1', 'Skill2', 'Skill3', 'Skill4', 'Skill5',\n",
    "       'Skill6', 'Skill7', 'Skill8', 'Skill9', 'Skill10', 'posSalary',\n",
    "       'posMinSalary', 'posMaxSalary', 'PositionNumber','comTambon'\n",
    "             ]]"
   ]
  },
  {
   "cell_type": "code",
   "execution_count": 70,
   "metadata": {
    "collapsed": true
   },
   "outputs": [],
   "source": [
    "explore.head(1000).to_excel('df_countOutliers100.xlsx','Sheet1')"
   ]
  },
  {
   "cell_type": "code",
   "execution_count": 64,
   "metadata": {},
   "outputs": [
    {
     "data": {
      "text/plain": [
       "(510816, 85)"
      ]
     },
     "execution_count": 64,
     "metadata": {},
     "output_type": "execute_result"
    }
   ],
   "source": [
    "df.shape"
   ]
  },
  {
   "cell_type": "markdown",
   "metadata": {},
   "source": [
    "# Explore\n",
    "---\n",
    "## ผู้สมัครสมัครงานตรงกับงานที่อยากทำในอันดับแรกหรือไม่?\n",
    "posJobCate กับ appJobCate_1 และ 2 มี unique value ไม่เหมือนกันอยู่ 11 งาน"
   ]
  },
  {
   "cell_type": "code",
   "execution_count": 41,
   "metadata": {
    "collapsed": true
   },
   "outputs": [],
   "source": [
    "def nosimilar_list(list1, list2):\n",
    "    diffJob = []\n",
    "    for i in range(0,len(list1)):        \n",
    "        x = 0\n",
    "        for j in range(0,len(list2)):\n",
    "            if list1[i] == list2[j]:\n",
    "                x = x+1\n",
    "        if x == 0:\n",
    "            #print(list1[i])\n",
    "            diffJob.append(list1[i])\n",
    "    diffJob.pop()\n",
    "    return diffJob"
   ]
  },
  {
   "cell_type": "code",
   "execution_count": 4,
   "metadata": {},
   "outputs": [
    {
     "name": "stdout",
     "output_type": "stream",
     "text": [
      "['Law', 'Agriculture', 'Teacher', 'Other', 'HealthCare', 'MassComm', 'Writer', 'Acting', '41', 'Security', 'Debt_Collector']\n",
      "\n",
      "\n",
      "ดึงเฉพาะตัวอย่างที่มี unique value ของ appJobCate_1 ตรงกับ posJobCate\n",
      "------------------------------------------------------------\n",
      "จำนวน 497469 ใบสมัคร\n"
     ]
    }
   ],
   "source": [
    "#เช็ค unique values ของ posJobCate และ appJobCate_1\n",
    "#df['posJobCate'].unique()\n",
    "#df['appJobCate_1'].unique()\n",
    "\n",
    "diffJob = nosimilar_list(df['appJobCate_1'].unique(),df['posJobCate'].unique())\n",
    "print(diffJob)\n",
    "print('\\n')\n",
    "\n",
    "diffJob = pd.Series(diffJob)\n",
    "mainJobCate = df[df['appJobCate_1'].isin(diffJob) == False]\n",
    "print('ดึงเฉพาะตัวอย่างที่มี unique value ของ appJobCate_1 ตรงกับ posJobCate')\n",
    "print('------------------------------------------------------------')\n",
    "print('จำนวน', mainJobCate.shape[0], 'ใบสมัคร')"
   ]
  },
  {
   "cell_type": "code",
   "execution_count": 5,
   "metadata": {},
   "outputs": [
    {
     "name": "stdout",
     "output_type": "stream",
     "text": [
      "จำนวน Missing values\n",
      "--------------------\n",
      "จำนวน missing values ใน posJobCate:  0\n",
      "จำนวน missing values ใน appJobCate_1:  5\n",
      "\n",
      "\n",
      "จำนวนผู้สมัครที่สมัครตรงและไม่ตรงกับกลุ่มงานที่ต้องการ\n",
      "--------------------------------------\n",
      "สมัครตรงกับกลุ่มงานที่ต้องการ: 290353 ใบ\n",
      "สมัครไม่ตรงกับกลุ่มงานที่ต้องการ: 207111 ใบ\n"
     ]
    }
   ],
   "source": [
    "#drop ตัวอย่างที่มี missing values ออกไปก่อน\n",
    "print('จำนวน Missing values')\n",
    "print('--------------------')\n",
    "print('จำนวน missing values ใน posJobCate: ', mainJobCate['posJobCate'].isnull().sum())\n",
    "print('จำนวน missing values ใน appJobCate_1: ', mainJobCate['appJobCate_1'].isnull().sum())\n",
    "print('\\n')\n",
    "mainJobCate = mainJobCate[~mainJobCate['appJobCate_1'].isnull()]\n",
    "\n",
    "#เปรียบเทียบ posJobCate กับ appJobCate_1\n",
    "compareJobCate = mainJobCate['posJobCate'] == mainJobCate['appJobCate_1']\n",
    "match, nomatch = compareJobCate.value_counts()\n",
    "print('จำนวนผู้สมัครที่สมัครตรงและไม่ตรงกับกลุ่มงานที่ต้องการ')\n",
    "print('--------------------------------------')\n",
    "print('สมัครตรงกับกลุ่มงานที่ต้องการ:', match, 'ใบ')\n",
    "print('สมัครไม่ตรงกับกลุ่มงานที่ต้องการ:', nomatch, 'ใบ')"
   ]
  },
  {
   "cell_type": "code",
   "execution_count": 6,
   "metadata": {
    "collapsed": true
   },
   "outputs": [],
   "source": [
    "#ฟังก์ชันที่ใช้สำหรับการ plot graph ด้านล่าง\n",
    "def count_to_df(_,JobCate):\n",
    "    # Input: result from value_counts()\n",
    "    # Output: dataframe\n",
    "    \n",
    "    _ = _.reset_index()\n",
    "    _.columns=[JobCate, 'count']\n",
    "    _ = pd.DataFrame(_)\n",
    "    \n",
    "    return _\n",
    "\n",
    "def plot_count(_,JobCate):\n",
    "    ax = sns.barplot(x=JobCate, y='count', data=x)"
   ]
  },
  {
   "cell_type": "code",
   "execution_count": 7,
   "metadata": {},
   "outputs": [
    {
     "data": {
      "image/png": "[encoded data removed]",
      "text/plain": [
       "<matplotlib.figure.Figure at 0x1e7eb7e3080>"
      ]
     },
     "metadata": {},
     "output_type": "display_data"
    }
   ],
   "source": [
    "#ค่า i สำหรับใช้กับ subplot\n",
    "i=1\n",
    "plt.figure(figsize=[20,20])\n",
    "for job in mainJobCate['appJobCate_1'].unique():\n",
    "    #สร้าง dataframe สำหรับแต่ละ JobCate\n",
    "    appJobCate = mainJobCate[mainJobCate['appJobCate_1'] == job]\n",
    "    #เปรียบเทียบ posJobCate กับ appJobCate_1\n",
    "    compare = appJobCate['appJobCate_1'] == appJobCate['posJobCate']\n",
    "    #count value, ใส่ค่า True เพื่อให้ returnออกมาเป็น relative frequency\n",
    "    x = count_to_df(compare.value_counts(True), job)\n",
    "    #สร้างเป็น subplot\n",
    "    plt.subplot(5,6,i)\n",
    "    plot_count(x, job)\n",
    "    i = i+1\n",
    "    #ปรับระยะระหว่างกราฟ\n",
    "    #plt.subplots_adjust(top=0.92, bottom=0.6, left=0.10, right=1.2, hspace=0.25, wspace=0.35)\n",
    "    plt.subplots_adjust(top=0.92, bottom=0.08, left=0.10, right=0.95, hspace=0.25, wspace=0.35)\n",
    "plt.show()"
   ]
  },
  {
   "cell_type": "markdown",
   "metadata": {},
   "source": [
    "## งานในแต่ละอาชีพคืออะไรบ้าง"
   ]
  },
  {
   "cell_type": "code",
   "execution_count": 8,
   "metadata": {
    "collapsed": true
   },
   "outputs": [],
   "source": [
    "#viewJob = df[['WantedPosition_1','appJobCate_1','WantedPosition_2','appJobCate_2','Title','posJobCate' ]]"
   ]
  },
  {
   "cell_type": "code",
   "execution_count": 9,
   "metadata": {},
   "outputs": [
    {
     "name": "stderr",
     "output_type": "stream",
     "text": [
      "D:\\Anaconda3\\lib\\site-packages\\IPython\\core\\interactiveshell.py:2728: DtypeWarning: Columns (5,6,22,26,43) have mixed types. Specify dtype option on import or set low_memory=False.\n",
      "  interactivity=interactivity, compiler=compiler, result=result)\n"
     ]
    }
   ],
   "source": [
    "#Load applicant dataframe ขึ้นมาใหม่เนื่องจาก df เป็น dataframe สำหรับใบสมัครจะมีผู้สมัครเกิดขึ้นซ้ำกันตามจำนวนครั้งที่สมัคร\n",
    "applicant = pd.read_csv(\"data/jobthai/applicant_df.csv\")"
   ]
  },
  {
   "cell_type": "code",
   "execution_count": 10,
   "metadata": {
    "collapsed": true
   },
   "outputs": [],
   "source": [
    "#หาเฉพาะ ApplicantID ที่มีอยู่ใน df\n",
    "appSameID = applicant[applicant['ApplicantID'].isin(df['ApplicantID']) == True]\n",
    "#ต่อ WantedPosition_1 ที่อยู่ใน JobCate_1 เดียวกันให้เป็น list\n",
    "groupJob = appSameID.groupby('JobCate_1')['WantedPosition_1'].apply(list)"
   ]
  },
  {
   "cell_type": "code",
   "execution_count": 11,
   "metadata": {
    "collapsed": true
   },
   "outputs": [],
   "source": [
    "appJobDetail = pd.DataFrame()\n",
    "for i in range(0, groupJob.shape[0]):\n",
    "    appJobDetail[i] = pd.Series(groupJob[i]).value_counts().reset_index()['index']\n",
    "appJobDetail.columns = groupJob.index"
   ]
  },
  {
   "cell_type": "code",
   "execution_count": 12,
   "metadata": {
    "collapsed": true
   },
   "outputs": [],
   "source": [
    "#Save เป็น file .csv\n",
    "#appjobDetail.to_csv('appJobDetail.csv', encoding='utf-8')"
   ]
  },
  {
   "cell_type": "markdown",
   "metadata": {
    "collapsed": true
   },
   "source": [
    "## ใส่ SubJobCate ให้กับรายละเอียดงานฝั่งผู้สมัคร (ซึ่งจะมีเฉพาะ 30 งานที่ตรงกันเท่านั้น)"
   ]
  },
  {
   "cell_type": "code",
   "execution_count": 13,
   "metadata": {
    "collapsed": true
   },
   "outputs": [],
   "source": [
    "#Load position dataframe ขึ้นมาใหม่เนื่องจาก df เป็น dataframe สำหรับใบสมัครจะมีตำแหน่งงานเกิดขึ้นซ้ำกันตามจำนวนครั้งที่มีคนสมัคร\n",
    "position = pd.read_csv(\"data/jobthai/position_df.csv\")"
   ]
  },
  {
   "cell_type": "code",
   "execution_count": 14,
   "metadata": {},
   "outputs": [
    {
     "name": "stderr",
     "output_type": "stream",
     "text": [
      "D:\\Anaconda3\\lib\\site-packages\\ipykernel_launcher.py:5: SettingWithCopyWarning: \n",
      "A value is trying to be set on a copy of a slice from a DataFrame.\n",
      "Try using .loc[row_indexer,col_indexer] = value instead\n",
      "\n",
      "See the caveats in the documentation: http://pandas.pydata.org/pandas-docs/stable/indexing.html#indexing-view-versus-copy\n",
      "  \"\"\"\n"
     ]
    }
   ],
   "source": [
    "#หาเฉพาะ PositionID ที่มีอยู่ใน df\n",
    "posSameID = position[position['PositionID'].isin(df['PositionID']) == True]\n",
    "\n",
    "#นำเฉพาะ PositionID ที่ทั้งในใบสมัครและตำแหน่งมานับหา 'Title' ที่ซ้ำกันมากที่สุด 20 อันดับ\n",
    "posSameID['FullJob'] = posSameID['JobCate']  + ' > ' + posSameID['SubJobCate']\n",
    "fullJobIndex = pd.Series(posSameID['FullJob'].unique()).sort_values()\n",
    "titleGroup = pd.DataFrame()\n",
    "for job in fullJobIndex:\n",
    "    x = posSameID[posSameID['FullJob'] == job]\n",
    "    titleGroup[job] = pd.Series(x['Title'].value_counts()[:20].index)"
   ]
  },
  {
   "cell_type": "code",
   "execution_count": 15,
   "metadata": {
    "collapsed": true
   },
   "outputs": [],
   "source": [
    "#Save เป็น file .csv\n",
    "#titleGroup.to_csv('posJobDetail.csv', encoding='utf-8')"
   ]
  }
 ],
 "metadata": {
  "kernelspec": {
   "display_name": "Python 3",
   "language": "python",
   "name": "python3"
  },
  "language_info": {
   "codemirror_mode": {
    "name": "ipython",
    "version": 3
   },
   "file_extension": ".py",
   "mimetype": "text/x-python",
   "name": "python",
   "nbconvert_exporter": "python",
   "pygments_lexer": "ipython3",
   "version": "3.6.3"
  }
 },
 "nbformat": 4,
 "nbformat_minor": 2
}
